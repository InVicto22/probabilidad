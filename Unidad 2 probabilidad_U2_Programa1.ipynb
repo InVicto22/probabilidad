{
  "nbformat": 4,
  "nbformat_minor": 0,
  "metadata": {
    "colab": {
      "provenance": [],
      "authorship_tag": "ABX9TyMxQZ4CP/n3SEdDaFQlcSYP",
      "include_colab_link": true
    },
    "kernelspec": {
      "name": "python3",
      "display_name": "Python 3"
    },
    "language_info": {
      "name": "python"
    }
  },
  "cells": [
    {
      "cell_type": "markdown",
      "metadata": {
        "id": "view-in-github",
        "colab_type": "text"
      },
      "source": [
        "<a href=\"https://colab.research.google.com/github/InVicto22/probabilidad/blob/main/Unidad%202%20probabilidad_U2_Programa1.ipynb\" target=\"_parent\"><img src=\"https://colab.research.google.com/assets/colab-badge.svg\" alt=\"Open In Colab\"/></a>"
      ]
    },
    {
      "cell_type": "code",
      "execution_count": null,
      "metadata": {
        "id": "_uMGQLYRg6UG"
      },
      "outputs": [],
      "source": [
        "import math as mt # para utilizar factorial\n",
        "from itertools import combinations\n",
        "from itertools import combinations_with_replacement\n",
        "import numpy as np\n",
        "nombres = [\"oscar\", \"paco\", \"paty\", \"laura\", \"ruben\", \"lucy\", \"alberto\",\"juan\", \"danny\",]\n",
        "n = len(nombres)\n",
        "r = 2 # como agrupar\n",
        "Cn = mt.factorial(n) / (mt.factorial(r) * mt.factorial(n-r))\n",
        "print(\"existen \", Cn, \" posibles combinaciones sin repeticion del total de \", n , \" nombres \", \" en grupos de \", r ,\" en \", r)\n",
        "print(\"aqui las combinaciones\")\n",
        "combinations_nombres = list(combinations(nombres, r))\n",
        "# imprime las combinaciones\n",
        "for combinacion in combinations_nombres:\n",
        " print(combinacion)\n",
        "\n"
      ]
    }
  ]
}