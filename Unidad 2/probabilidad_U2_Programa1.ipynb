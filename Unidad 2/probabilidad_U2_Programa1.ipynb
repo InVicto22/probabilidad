{
  "nbformat": 4,
  "nbformat_minor": 0,
  "metadata": {
    "colab": {
      "provenance": [],
      "authorship_tag": "ABX9TyPdIQPrpgQWlJRXgj+Udeec",
      "include_colab_link": true
    },
    "kernelspec": {
      "name": "python3",
      "display_name": "Python 3"
    },
    "language_info": {
      "name": "python"
    }
  },
  "cells": [
    {
      "cell_type": "markdown",
      "metadata": {
        "id": "view-in-github",
        "colab_type": "text"
      },
      "source": [
        "<a href=\"https://colab.research.google.com/github/InVicto22/probabilidad/blob/main/Unidad%202/probabilidad_U2_Programa1.ipynb\" target=\"_parent\"><img src=\"https://colab.research.google.com/assets/colab-badge.svg\" alt=\"Open In Colab\"/></a>"
      ]
    },
    {
      "cell_type": "code",
      "source": [
        "import math as mt # para utilizar factorial\n",
        "from itertools import combinations\n",
        "from itertools import combinations_with_replacement\n",
        "import numpy as np\n",
        "nombres = [\"oscar\", \"paco\", \"paty\", \"laura\", \"ruben\", \"lucy\", \"alberto\",\"juan\",\n",
        "           \"danny\",]\n",
        "n = len(nombres)\n",
        "r = 2 # como agrupar\n",
        "Cn = mt.factorial(n) / (mt.factorial(r) * mt.factorial(n-r))\n",
        "print(\"existen \", Cn, \" posibles combinaciones sin repeticion del total de \",\n",
        "      n , \" nombres \", \" en grupos de \", r ,\" en \", r)\n",
        "print(\"aqui las combinaciones\")\n",
        "combinations_nombres = list(combinations(nombres, r))\n",
        "# imprime las combinaciones\n",
        "for combinacion in combinations_nombres:\n",
        " print(combinacion)"
      ],
      "metadata": {
        "id": "3eqbUJK8tE5J"
      },
      "execution_count": null,
      "outputs": []
    },
    {
      "cell_type": "code",
      "source": [
        "caracteres = [\"A\", \"B\", \"C\", \"D\", \"E\", \"F\", \"0\", \"1\", \"2\", \"3\", \"4\", \"5\"]\n",
        "n = len(caracteres)\n",
        "r = 10 # como agrupar\n",
        "Cn = mt.factorial(n) / (mt.factorial(r) * mt.factorial(n-r))\n",
        "print(\"existen \", Cn,  \" posibles combinaciones sin repeticion del total de \",\n",
        "      n, \" caracteres \", \" en grupos de \", \" en \", r)\n",
        "print(\"aqui las combinaciones }\")\n",
        "combinaciones_caracteres = list(combinations(caracteres, r))\n",
        "# imprime las combinaciones\n",
        "for combinacion in combinaciones_caracteres:\n",
        "  print(combinacion)"
      ],
      "metadata": {
        "id": "wb42egGKt_Xe"
      },
      "execution_count": null,
      "outputs": []
    },
    {
      "cell_type": "code",
      "source": [
        "dado =[1, 2, 3, 4, 5, 6,]\n",
        "n = len(dado)\n",
        "r = 2 # como agrupar? de dos en dos porque hay dados\n",
        "CnR = mt.factorial(n+r-1) / (mt.factorial(r) * mt.factorial((n+r-1)-r))\n",
        "print(\"existen \", CnR, \" posibles combinaciones con repeticion del total de \",\n",
        "      n, \" caracteres \", \" en grupos de \", r, \" en \", r)\n",
        "print(\"aqui las combinaciones con repeticion de dos dados\")\n",
        "# definir el conjunto de los elementos a elegir en cada  combinacion\n",
        "r = 2\n",
        "# calcular las combinaciones con repeticion\n",
        "combinaciones_dados = list(combinations_with_replacement(dado, r))\n",
        "# imprimir las combinaciones\n",
        "for combinacion in combinaciones_dados:\n",
        "  print(combinacion)"
      ],
      "metadata": {
        "id": "9sNUfE48xFUQ"
      },
      "execution_count": null,
      "outputs": []
    }
  ]
}