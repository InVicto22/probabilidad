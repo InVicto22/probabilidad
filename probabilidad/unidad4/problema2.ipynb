{
  "nbformat": 4,
  "nbformat_minor": 0,
  "metadata": {
    "colab": {
      "provenance": [],
      "authorship_tag": "ABX9TyOnXSYEtKu2U0O/f7IXLr1p",
      "include_colab_link": true
    },
    "kernelspec": {
      "name": "python3",
      "display_name": "Python 3"
    },
    "language_info": {
      "name": "python"
    }
  },
  "cells": [
    {
      "cell_type": "markdown",
      "metadata": {
        "id": "view-in-github",
        "colab_type": "text"
      },
      "source": [
        "<a href=\"https://colab.research.google.com/github/InVicto22/probabilidad/blob/main/probabilidad/unidad4/problema2.ipynb\" target=\"_parent\"><img src=\"https://colab.research.google.com/assets/colab-badge.svg\" alt=\"Open In Colab\"/></a>"
      ]
    },
    {
      "cell_type": "code",
      "source": [
        "from math import exp, factorial\n",
        "from scipy.stats import poisson\n",
        "\n",
        "# el problema es de tipo poisson\n",
        "ingresos_dia = 5\n",
        "\n",
        "prob_2ingresos_x_dia= poisson.pmf(2, ingresos_dia)\n",
        "print(f\"a) probabilidad de que ingresen exactamente 2 personas = {prob_2ingresos_x_dia:.5f}\")\n",
        "\n",
        "prob_mayor_10 = 1 - poisson.cdf(10, ingresos_dia)\n",
        "print(f\"b) probabilidad de que ingresen mas de 10 personas = {prob_mayor_10:.5f}\")\n",
        "\n",
        "if prob_mayor_10 < 0.05:\n",
        "    print(\"→ Es poco probable que ingresen más de 10 personas en un día.\")\n",
        "else:\n",
        "    print(\"→ Es probable que ingresen más de 10 personas en un día.\")\n"
      ],
      "metadata": {
        "colab": {
          "base_uri": "https://localhost:8080/"
        },
        "id": "J6eM-m3Y8hdj",
        "outputId": "8b90ff5f-22f7-4323-80ad-ef6f3bf50280"
      },
      "execution_count": 18,
      "outputs": [
        {
          "output_type": "stream",
          "name": "stdout",
          "text": [
            "a) probabilidad de que ingresen exactamente 2 personas = 0.08422\n",
            "b) probabilidad de que ingresen mas de 10 personas = 0.01370\n",
            "→ Es poco probable que ingresen más de 10 personas en un día.\n"
          ]
        }
      ]
    },
    {
      "cell_type": "code",
      "source": [
        "from scipy.stats import poisson\n",
        "\n",
        "# el problema es de tipo poisson\n",
        "motores = 1000 * 0.001\n",
        "\n",
        "p0 = poisson.pmf(0, motores)\n",
        "\n",
        "p3 = poisson.pmf(3, motores)\n",
        "\n",
        "p4 = poisson.pmf(4, motores)\n",
        "\n",
        "print(f\"probabilidad de que ninguno sea defectuoso = {p0:.5f}\")\n",
        "print(f\"probabilida de que 3 sean defectuosos = {p3:.5f}\")\n",
        "print(f\"probabilidad de que 4 sean defectuosos = {p4:.5f}\")\n"
      ],
      "metadata": {
        "colab": {
          "base_uri": "https://localhost:8080/"
        },
        "id": "Z4TwCKcD-48b",
        "outputId": "0a5ab840-0e70-4d81-8cdf-bfa094119c05"
      },
      "execution_count": 14,
      "outputs": [
        {
          "output_type": "stream",
          "name": "stdout",
          "text": [
            "probabilidad de que ninguno sea defectuoso = 0.36788\n",
            "probabilida de que 3 sean defectuosos = 0.06131\n",
            "probabilidad de que 4 sean defectuosos = 0.01533\n"
          ]
        }
      ]
    }
  ]
}