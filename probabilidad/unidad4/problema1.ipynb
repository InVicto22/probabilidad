{
  "nbformat": 4,
  "nbformat_minor": 0,
  "metadata": {
    "colab": {
      "provenance": [],
      "authorship_tag": "ABX9TyMUNJ43g5AuPTEDL4iQgO6R",
      "include_colab_link": true
    },
    "kernelspec": {
      "name": "python3",
      "display_name": "Python 3"
    },
    "language_info": {
      "name": "python"
    }
  },
  "cells": [
    {
      "cell_type": "markdown",
      "metadata": {
        "id": "view-in-github",
        "colab_type": "text"
      },
      "source": [
        "<a href=\"https://colab.research.google.com/github/InVicto22/probabilidad/blob/main/probabilidad/unidad4/problema1.ipynb\" target=\"_parent\"><img src=\"https://colab.research.google.com/assets/colab-badge.svg\" alt=\"Open In Colab\"/></a>"
      ]
    },
    {
      "cell_type": "code",
      "execution_count": 5,
      "metadata": {
        "colab": {
          "base_uri": "https://localhost:8080/",
          "height": 71
        },
        "id": "VROIlNuBxsU7",
        "outputId": "e646c8a6-3683-40d9-d8dd-c72bbddae061"
      },
      "outputs": [
        {
          "output_type": "stream",
          "name": "stdout",
          "text": [
            "probabilidad de que un estudiante pese menos de 72kg:  0.6914624612740131\n",
            "numero de estudiantes que pesan menos de 72kg:  345.73123063700655\n"
          ]
        },
        {
          "output_type": "display_data",
          "data": {
            "text/plain": [
              "<Figure size 600x400 with 0 Axes>"
            ]
          },
          "metadata": {}
        }
      ],
      "source": [
        "import numpy as np\n",
        "import matplotlib.pyplot as plt\n",
        "from scipy.stats import norm\n",
        "\n",
        "plt.figure(figsize=(6,4))\n",
        "\n",
        "media = 70\n",
        "desviacion_estandar = 4\n",
        "total_estudiantes = 500\n",
        "\n",
        "peso_limite = 72\n",
        "\n",
        "prob_menos_72kg = norm.cdf(peso_limite, media, desviacion_estandar)\n",
        "estudiantes_menos_72kg = total_estudiantes * prob_menos_72kg\n",
        "\n",
        "print(\"probabilidad de que un estudiante pese menos de 72kg: \", prob_menos_72kg)\n",
        "print(\"numero de estudiantes que pesan menos de 72kg: \", estudiantes_menos_72kg)\n",
        "\n"
      ]
    },
    {
      "cell_type": "code",
      "source": [
        "import numpy as np\n",
        "import matplotlib.pyplot as plt\n",
        "from scipy.stats import norm\n",
        "\n",
        "plt.figure(figsize=(6,4))\n",
        "\n",
        "media = 70\n",
        "desviacion_estandar = 4\n",
        "peso_limite = 68\n",
        "total_estudiantes = 500\n",
        "\n",
        "prob_menos_68kg = norm.cdf(peso_limite, media, desviacion_estandar)\n",
        "prob_mas_68kg = 1 - prob_menos_68kg\n",
        "estudiantes_mas_68kg = total_estudiantes * prob_mas_68kg\n",
        "\n",
        "print(\"probabilidad de que un estudiante pese mas de 68kg: \", prob_mas_68kg)\n",
        "print(\"numero aproximado de estudiantes que pesan mas de 68kg: \", estudiantes_mas_68kg )\n"
      ],
      "metadata": {
        "colab": {
          "base_uri": "https://localhost:8080/",
          "height": 71
        },
        "id": "8ghYJA1my8xe",
        "outputId": "ce65070a-070e-4a30-b14e-2a006f3bda3b"
      },
      "execution_count": 6,
      "outputs": [
        {
          "output_type": "stream",
          "name": "stdout",
          "text": [
            "probabilidad de que un estudiante pese mas de 68kg:  0.6914624612740131\n",
            "numero aproximado de estudiantes que pesan mas de 68kg:  345.73123063700655\n"
          ]
        },
        {
          "output_type": "display_data",
          "data": {
            "text/plain": [
              "<Figure size 600x400 with 0 Axes>"
            ]
          },
          "metadata": {}
        }
      ]
    }
  ]
}